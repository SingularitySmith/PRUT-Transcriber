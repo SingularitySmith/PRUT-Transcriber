{
  "nbformat": 4,
  "nbformat_minor": 0,
  "metadata": {
    "colab": {
      "provenance": [],
      "authorship_tag": "ABX9TyMLiUeGIJl3v36ycjJ5bunb",
      "include_colab_link": true
    },
    "kernelspec": {
      "name": "python3",
      "display_name": "Python 3"
    },
    "language_info": {
      "name": "python"
    }
  },
  "cells": [
    {
      "cell_type": "markdown",
      "metadata": {
        "id": "view-in-github",
        "colab_type": "text"
      },
      "source": [
        "<a href=\"https://colab.research.google.com/github/SingularitySmith/PRUT-Transcriber/blob/main/PRUT_Transcriber5.ipynb\" target=\"_parent\"><img src=\"https://colab.research.google.com/assets/colab-badge.svg\" alt=\"Open In Colab\"/></a>"
      ]
    },
    {
      "cell_type": "markdown",
      "source": [
        "I want to adopt this code for the current transcriptions (requires changing the language to English, using secrets to save access tokens, changing the path for the files in Google Drive, updating / including transformation of input files: .MP4 vs. .WAV, etc.)\n",
        "\n",
        "Here is the notebook code:\n",
        "\n",
        "Files now .wav from the get go\n",
        "\n",
        "set higher quality\n",
        "\n",
        "Speaker diarization\n",
        "\n",
        "Multiple languages"
      ],
      "metadata": {
        "id": "6qwd2Rbg62x0"
      }
    },
    {
      "cell_type": "code",
      "execution_count": null,
      "metadata": {
        "id": "RsLqUkmg6dTA"
      },
      "outputs": [],
      "source": []
    }
  ]
}